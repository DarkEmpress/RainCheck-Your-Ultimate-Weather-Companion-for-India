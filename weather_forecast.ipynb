{
 "cells": [
  {
   "cell_type": "code",
   "execution_count": 1,
   "id": "89b1ac75",
   "metadata": {},
   "outputs": [],
   "source": [
    "# import necessary libraries\n",
    "import numpy as np\n",
    "import pandas as pd\n",
    "import sklearn as sk\n",
    "import matplotlib.pyplot as plt"
   ]
  },
  {
   "cell_type": "code",
   "execution_count": 2,
   "id": "0bd97253",
   "metadata": {},
   "outputs": [
    {
     "name": "stdout",
     "output_type": "stream",
     "text": [
      "  country location_name          region  latitude  longitude      timezone  \\\n",
      "0   India    Ashoknagar  Madhya Pradesh     24.57      77.72  Asia/Kolkata   \n",
      "1   India        Raisen  Madhya Pradesh     23.33      77.80  Asia/Kolkata   \n",
      "2   India    Chhindwara  Madhya Pradesh     22.07      78.93  Asia/Kolkata   \n",
      "3   India         Betul  Madhya Pradesh     21.86      77.93  Asia/Kolkata   \n",
      "4   India   Hoshangabad  Madhya Pradesh     22.75      77.72  Asia/Kolkata   \n",
      "\n",
      "   last_updated_epoch      last_updated  temperature_celsius  \\\n",
      "0          1693286100  2023-08-29 10:45                 27.5   \n",
      "1          1693286100  2023-08-29 10:45                 27.5   \n",
      "2          1693286100  2023-08-29 10:45                 26.3   \n",
      "3          1693286100  2023-08-29 10:45                 25.6   \n",
      "4          1693286100  2023-08-29 10:45                 27.2   \n",
      "\n",
      "   temperature_fahrenheit  ... air_quality_PM2.5  air_quality_PM10  \\\n",
      "0                    81.5  ...              12.6              18.5   \n",
      "1                    81.5  ...              10.7              14.2   \n",
      "2                    79.3  ...              16.8              20.7   \n",
      "3                    78.1  ...               4.9               6.6   \n",
      "4                    81.0  ...              11.4              14.8   \n",
      "\n",
      "   air_quality_us-epa-index  air_quality_gb-defra-index   sunrise    sunset  \\\n",
      "0                         1                           2  05:59 AM  06:41 PM   \n",
      "1                         1                           1  06:00 AM  06:40 PM   \n",
      "2                         2                           2  05:56 AM  06:34 PM   \n",
      "3                         1                           1  06:00 AM  06:38 PM   \n",
      "4                         1                           1  06:01 AM  06:39 PM   \n",
      "\n",
      "   moonrise   moonset      moon_phase  moon_illumination  \n",
      "0  05:42 PM  03:38 AM  Waxing Gibbous                 93  \n",
      "1  05:39 PM  03:41 AM  Waxing Gibbous                 93  \n",
      "2  05:32 PM  03:39 AM  Waxing Gibbous                 93  \n",
      "3  05:36 PM  03:43 AM  Waxing Gibbous                 93  \n",
      "4  05:38 PM  03:42 AM  Waxing Gibbous                 93  \n",
      "\n",
      "[5 rows x 42 columns]\n"
     ]
    }
   ],
   "source": [
    "#loading the dataset\n",
    "df = pd.read_csv('IndianWeatherRepository.csv')\n",
    "print(df.head())"
   ]
  },
  {
   "cell_type": "code",
   "execution_count": 3,
   "id": "29080b0e",
   "metadata": {},
   "outputs": [
    {
     "name": "stdout",
     "output_type": "stream",
     "text": [
      "  location_name          region  temperature_fahrenheit condition_text  \\\n",
      "0    Ashoknagar  Madhya Pradesh                    81.5  Partly cloudy   \n",
      "1        Raisen  Madhya Pradesh                    81.5          Sunny   \n",
      "2    Chhindwara  Madhya Pradesh                    79.3  Partly cloudy   \n",
      "3         Betul  Madhya Pradesh                    78.1         Cloudy   \n",
      "4   Hoshangabad  Madhya Pradesh                    81.0         Cloudy   \n",
      "\n",
      "   wind_kph  wind_degree  pressure_mb  precip_mm  humidity  cloud  ...  \\\n",
      "0      20.5          281       1008.0        0.0        67     26  ...   \n",
      "1      15.5          287       1008.0        0.0        70     19  ...   \n",
      "2      18.4          317       1009.0        0.0        70     51  ...   \n",
      "3      16.9          297       1009.0        0.0        76     65  ...   \n",
      "4      16.2          274       1009.0        0.0        74     82  ...   \n",
      "\n",
      "   uv_index  gust_kph  air_quality_Carbon_Monoxide  air_quality_Ozone  \\\n",
      "0       7.0      23.8                        243.7               45.8   \n",
      "1       7.0      18.0                        240.3               38.3   \n",
      "2       7.0      21.2                        220.3               57.2   \n",
      "3       6.0      20.9                        200.3               25.0   \n",
      "4       6.0      18.7                        257.0               30.8   \n",
      "\n",
      "   air_quality_Nitrogen_dioxide  air_quality_Sulphur_dioxide  \\\n",
      "0                           1.7                          3.1   \n",
      "1                           2.1                          2.6   \n",
      "2                           0.6                          1.7   \n",
      "3                           1.2                          1.1   \n",
      "4                           2.2                          1.8   \n",
      "\n",
      "   air_quality_PM2.5  air_quality_PM10  air_quality_us-epa-index  \\\n",
      "0               12.6              18.5                         1   \n",
      "1               10.7              14.2                         1   \n",
      "2               16.8              20.7                         2   \n",
      "3                4.9               6.6                         1   \n",
      "4               11.4              14.8                         1   \n",
      "\n",
      "   air_quality_gb-defra-index  \n",
      "0                           2  \n",
      "1                           1  \n",
      "2                           2  \n",
      "3                           1  \n",
      "4                           1  \n",
      "\n",
      "[5 rows x 22 columns]\n"
     ]
    }
   ],
   "source": [
    "#remove redundant attributes\n",
    "col_to_remove=['country','latitude','longitude','timezone','last_updated_epoch','last_updated','temperature_celsius','wind_mph','wind_direction','pressure_in','precip_in','feels_like_celsius','visibility_miles','gust_mph','sunrise','sunset','moonrise','moonset','moon_phase','moon_illumination']\n",
    "df = df.drop(columns=col_to_remove)\n",
    "print(df.head())"
   ]
  },
  {
   "cell_type": "code",
   "execution_count": 4,
   "id": "224062f5",
   "metadata": {},
   "outputs": [
    {
     "name": "stdout",
     "output_type": "stream",
     "text": [
      "region\n",
      "Andaman and Nicobar Islands     1\n",
      "Andhra Pradesh                 32\n",
      "Arunachal Pradesh               2\n",
      "Assam                          21\n",
      "Bihar                          29\n",
      "Chandigarh                      1\n",
      "Chhattisgarh                   22\n",
      "Dadra and Nagar Haveli          1\n",
      "Daman and Diu                   2\n",
      "Delhi                           2\n",
      "Goa                             2\n",
      "Gujarat                        23\n",
      "Haryana                        20\n",
      "Himachal Pradesh                5\n",
      "Jammu and Kashmir              20\n",
      "Jharkhand                      18\n",
      "Karnataka                      23\n",
      "Kerala                         14\n",
      "Lakshadweep                     1\n",
      "Madhya Pradesh                 48\n",
      "Maharashtra                    32\n",
      "Manipur                         8\n",
      "Mizoram                         7\n",
      "Nagaland                        6\n",
      "Orissa                         25\n",
      "Puducherry                      2\n",
      "Punjab                         19\n",
      "Rajasthan                      36\n",
      "Tamil Nadu                     28\n",
      "Tripura                         2\n",
      "Uttar Pradesh                  61\n",
      "Uttarakhand                    11\n",
      "West Bengal                    20\n",
      "Name: location_name, dtype: int64\n"
     ]
    },
    {
     "data": {
      "image/png": "[encoded data removed]",
      "text/plain": [
       "<Figure size 432x288 with 1 Axes>"
      ]
     },
     "metadata": {
      "needs_background": "light"
     },
     "output_type": "display_data"
    },
    {
     "name": "stdout",
     "output_type": "stream",
     "text": [
      "Udaipur          136\n",
      "East Godavari    117\n",
      "Siang            111\n",
      "Barddhaman       102\n",
      "Kolkata          100\n",
      "                ... \n",
      "Hassan            69\n",
      "Narsimhapur       69\n",
      "Ghaziabad         69\n",
      "Mancherial        69\n",
      "Palghar           69\n",
      "Name: location_name, Length: 543, dtype: int64\n"
     ]
    }
   ],
   "source": [
    "#location names per state/ UT\n",
    "count=df.groupby('region')['location_name'].nunique()\n",
    "print(count)\n",
    "count.plot(kind='bar')\n",
    "plt.title('Number of Locations by Region')\n",
    "plt.xlabel('Region')\n",
    "plt.ylabel('Number of Locations')\n",
    "plt.show()\n",
    "#conclusion: UP has the most no. of regions\n",
    "#andaman has the readings for only one region\n",
    "\n",
    "#frequency of each location\n",
    "frequency = df['location_name'].value_counts()\n",
    "print(frequency)"
   ]
  },
  {
   "cell_type": "code",
   "execution_count": 5,
   "id": "061edb2e",
   "metadata": {},
   "outputs": [
    {
     "name": "stdout",
     "output_type": "stream",
     "text": [
      "['Partly cloudy', 'Sunny', 'Cloudy', 'Mist', 'Patchy rain possible', 'Overcast', 'Patchy light rain with thunder', 'Light rain shower', 'Moderate or heavy rain shower', 'Clear', 'Light rain', 'Torrential rain shower', 'Fog', 'Thundery outbreaks possible', 'Patchy light drizzle', 'Moderate rain', 'Patchy light rain', 'Moderate rain at times', 'Heavy rain', 'Heavy rain at times', 'Light drizzle', 'Moderate or heavy rain with thunder', 'Patchy snow possible', 'Moderate or heavy snow showers', 'Light snow showers', 'Moderate or heavy snow with thunder', 'Patchy light snow with thunder', 'Light sleet', 'Light freezing rain']\n",
      "There are 29 distinct weather types in the dataset\n"
     ]
    }
   ],
   "source": [
    "#different weather names used\n",
    "distinct_values = df['condition_text'].unique().tolist()\n",
    "print(distinct_values)\n",
    "print(\"There are \"+str(len(distinct_values))+\" distinct weather types in the dataset\")"
   ]
  },
  {
   "cell_type": "code",
   "execution_count": 6,
   "id": "8aebdd79",
   "metadata": {},
   "outputs": [
    {
     "name": "stdout",
     "output_type": "stream",
     "text": [
      "                              missing percent\n",
      "location_name                             0.0\n",
      "region                                    0.0\n",
      "temperature_fahrenheit                    0.0\n",
      "condition_text                            0.0\n",
      "wind_kph                                  0.0\n",
      "wind_degree                               0.0\n",
      "pressure_mb                               0.0\n",
      "precip_mm                                 0.0\n",
      "humidity                                  0.0\n",
      "cloud                                     0.0\n",
      "feels_like_fahrenheit                     0.0\n",
      "visibility_km                             0.0\n",
      "uv_index                                  0.0\n",
      "gust_kph                                  0.0\n",
      "air_quality_Carbon_Monoxide               0.0\n",
      "air_quality_Ozone                         0.0\n",
      "air_quality_Nitrogen_dioxide              0.0\n",
      "air_quality_Sulphur_dioxide               0.0\n",
      "air_quality_PM2.5                         0.0\n",
      "air_quality_PM10                          0.0\n",
      "air_quality_us-epa-index                  0.0\n",
      "air_quality_gb-defra-index                0.0\n"
     ]
    }
   ],
   "source": [
    "#percentage of missing values\n",
    "missing_values=df.isnull()\n",
    "miss_percent=(missing_values.sum()/len(df))*100\n",
    "missing_data=pd.DataFrame({'missing percent': miss_percent})\n",
    "print(missing_data)"
   ]
  },
  {
   "cell_type": "markdown",
   "metadata": {},
   "source": [
    "therefore we can conclude that thaere are no missing values in the data set"
   ]
  },
  {
   "cell_type": "code",
   "execution_count": 7,
   "metadata": {},
   "outputs": [
    {
     "name": "stdout",
     "output_type": "stream",
     "text": [
      "0        False\n",
      "1        False\n",
      "2        False\n",
      "3        False\n",
      "4        False\n",
      "         ...  \n",
      "38297    False\n",
      "38298    False\n",
      "38299    False\n",
      "38300    False\n",
      "38301    False\n",
      "Length: 38302, dtype: bool\n",
      "       location_name          region  temperature_fahrenheit  \\\n",
      "1174         Udaipur       Rajasthan                    79.7   \n",
      "1198   East Godavari  Andhra Pradesh                    79.9   \n",
      "1281           Siang    Chhattisgarh                    77.0   \n",
      "1364           Nagar    Chhattisgarh                    72.1   \n",
      "1382         Kolkata     West Bengal                    86.0   \n",
      "...              ...             ...                     ...   \n",
      "37733          Siang    Chhattisgarh                    64.0   \n",
      "37742  East Godavari  Andhra Pradesh                    77.0   \n",
      "37748     Barddhaman     West Bengal                    71.1   \n",
      "37860  East Godavari  Andhra Pradesh                    77.3   \n",
      "38292  East Godavari  Andhra Pradesh                    77.3   \n",
      "\n",
      "             condition_text  wind_kph  wind_degree  pressure_mb  precip_mm  \\\n",
      "1174                  Clear      16.6          236       1006.0       0.00   \n",
      "1198   Patchy rain possible       3.6          305       1006.0       0.10   \n",
      "1281          Partly cloudy       3.6          352       1007.0       0.00   \n",
      "1364                  Clear       4.3          323       1008.0       0.00   \n",
      "1382                   Mist       3.6           10       1005.0       0.00   \n",
      "...                     ...       ...          ...          ...        ...   \n",
      "37733                 Clear       7.6           29       1016.0       0.00   \n",
      "37742  Patchy rain possible       9.4           49       1012.0       0.06   \n",
      "37748                 Clear      10.4           14       1014.0       0.00   \n",
      "37860         Partly cloudy       9.4           51       1012.0       0.00   \n",
      "38292         Partly cloudy       9.4           51       1012.0       0.00   \n",
      "\n",
      "       humidity  cloud  ...  uv_index  gust_kph  air_quality_Carbon_Monoxide  \\\n",
      "1174         56     12  ...       1.0      29.5                        207.0   \n",
      "1198         75     86  ...       1.0       6.8                        680.9   \n",
      "1281         71     52  ...       1.0       6.8                        400.5   \n",
      "1364         83     22  ...       1.0       9.0                        270.4   \n",
      "1382         89     50  ...       7.0      13.0                       1388.6   \n",
      "...         ...    ...  ...       ...       ...                          ...   \n",
      "37733        48      2  ...       1.0      15.9                        454.0   \n",
      "37742        85     54  ...       1.0      16.4                        433.9   \n",
      "37748        63      8  ...       1.0      21.9                       1468.7   \n",
      "37860        84     32  ...       1.0      15.8                        767.7   \n",
      "38292        84     32  ...       1.0      15.8                        767.7   \n",
      "\n",
      "       air_quality_Ozone  air_quality_Nitrogen_dioxide  \\\n",
      "1174                47.9                           2.3   \n",
      "1198                 7.2                          14.2   \n",
      "1281                10.3                           4.9   \n",
      "1364                26.8                           2.5   \n",
      "1382                18.8                          24.3   \n",
      "...                  ...                           ...   \n",
      "37733               45.8                           5.2   \n",
      "37742               21.6                           5.1   \n",
      "37748                2.1                          26.1   \n",
      "37860                3.8                          39.8   \n",
      "38292                3.8                          39.8   \n",
      "\n",
      "       air_quality_Sulphur_dioxide  air_quality_PM2.5  air_quality_PM10  \\\n",
      "1174                           0.6                9.0              25.5   \n",
      "1198                           4.2               53.6              63.5   \n",
      "1281                           1.5               51.7              58.9   \n",
      "1364                           1.3               30.3              44.0   \n",
      "1382                          14.0              219.1             251.8   \n",
      "...                            ...                ...               ...   \n",
      "37733                          2.3               64.2              75.0   \n",
      "37742                          3.7               10.5              12.2   \n",
      "37748                          3.4              184.4             216.6   \n",
      "37860                         18.1               44.9              48.8   \n",
      "38292                         18.1               44.9              48.8   \n",
      "\n",
      "       air_quality_us-epa-index  air_quality_gb-defra-index  \n",
      "1174                          1                           1  \n",
      "1198                          3                           6  \n",
      "1281                          3                           6  \n",
      "1364                          2                           3  \n",
      "1382                          5                          10  \n",
      "...                         ...                         ...  \n",
      "37733                         3                           8  \n",
      "37742                         1                           1  \n",
      "37748                         5                          10  \n",
      "37860                         3                           5  \n",
      "38292                         3                           5  \n",
      "\n",
      "[300 rows x 22 columns]\n",
      "number of rows:  38152\n"
     ]
    }
   ],
   "source": [
    "#identify and remove duplicated rows\n",
    "duplicated_rows=df.duplicated(keep=False)\n",
    "print(duplicated_rows)\n",
    "duplicate_data=df[duplicated_rows]\n",
    "print(duplicate_data)\n",
    "df=df.drop_duplicates(keep='first')\n",
    "print('number of rows: ',df.shape[0])"
   ]
  },
  {
   "cell_type": "code",
   "execution_count": 8,
   "metadata": {},
   "outputs": [
    {
     "name": "stdout",
     "output_type": "stream",
     "text": [
      "location_name                    object\n",
      "region                           object\n",
      "temperature_fahrenheit          float64\n",
      "condition_text                   object\n",
      "wind_kph                        float64\n",
      "wind_degree                       int64\n",
      "pressure_mb                     float64\n",
      "precip_mm                       float64\n",
      "humidity                          int64\n",
      "cloud                             int64\n",
      "feels_like_fahrenheit           float64\n",
      "visibility_km                   float64\n",
      "uv_index                        float64\n",
      "gust_kph                        float64\n",
      "air_quality_Carbon_Monoxide     float64\n",
      "air_quality_Ozone               float64\n",
      "air_quality_Nitrogen_dioxide    float64\n",
      "air_quality_Sulphur_dioxide     float64\n",
      "air_quality_PM2.5               float64\n",
      "air_quality_PM10                float64\n",
      "air_quality_us-epa-index          int64\n",
      "air_quality_gb-defra-index        int64\n",
      "dtype: object\n"
     ]
    }
   ],
   "source": [
    "#data type of each row\n",
    "data_types = df.dtypes\n",
    "print(data_types)"
   ]
  },
  {
   "cell_type": "code",
   "execution_count": 9,
   "metadata": {},
   "outputs": [
    {
     "name": "stdout",
     "output_type": "stream",
     "text": [
      "location_name                    object\n",
      "region                           object\n",
      "temperature_fahrenheit          float64\n",
      "condition_text                   object\n",
      "wind_kph                        float64\n",
      "wind_degree                     float64\n",
      "pressure_mb                     float64\n",
      "precip_mm                       float64\n",
      "humidity                        float64\n",
      "cloud                           float64\n",
      "feels_like_fahrenheit           float64\n",
      "visibility_km                   float64\n",
      "uv_index                        float64\n",
      "gust_kph                        float64\n",
      "air_quality_Carbon_Monoxide     float64\n",
      "air_quality_Ozone               float64\n",
      "air_quality_Nitrogen_dioxide    float64\n",
      "air_quality_Sulphur_dioxide     float64\n",
      "air_quality_PM2.5               float64\n",
      "air_quality_PM10                float64\n",
      "air_quality_us-epa-index        float64\n",
      "air_quality_gb-defra-index      float64\n",
      "dtype: object\n"
     ]
    }
   ],
   "source": [
    "#convert the int64 data to float64\n",
    "df['humidity'] = df['humidity'].astype('float64')\n",
    "df['wind_degree'] = df['wind_degree'].astype('float64')\n",
    "df['cloud'] = df['cloud'].astype('float64')\n",
    "df['air_quality_us-epa-index'] = df['air_quality_us-epa-index'].astype('float64')\n",
    "df['air_quality_gb-defra-index'] = df['air_quality_gb-defra-index'].astype('float64')\n",
    "\n",
    "data_types = df.dtypes\n",
    "print(data_types)"
   ]
  },
  {
   "cell_type": "code",
   "execution_count": 10,
   "metadata": {},
   "outputs": [
    {
     "name": "stderr",
     "output_type": "stream",
     "text": [
      "c:\\Users\\HP\\anaconda3\\lib\\site-packages\\sklearn\\linear_model\\_logistic.py:763: ConvergenceWarning: lbfgs failed to converge (status=1):\n",
      "STOP: TOTAL NO. of ITERATIONS REACHED LIMIT.\n",
      "\n",
      "Increase the number of iterations (max_iter) or scale the data as shown in:\n",
      "    https://scikit-learn.org/stable/modules/preprocessing.html\n",
      "Please also refer to the documentation for alternative solver options:\n",
      "    https://scikit-learn.org/stable/modules/linear_model.html#logistic-regression\n",
      "  n_iter_i = _check_optimize_result(\n"
     ]
    }
   ],
   "source": [
    "#now that we have cleaned the dataset we can move onto fitting the data into an ML Model. \n",
    "# to determine the weather let us first do logistic modeling\n",
    "#according to the literature survey temperature, wind, precipitation, humidity, cloud are the parameters that will determine the weather at a place at a time. \n",
    "# the region and time of the day are excluded because they are redundant\n",
    "# Import the required libraries\n",
    "from sklearn.linear_model import LogisticRegression\n",
    "from sklearn.model_selection import train_test_split\n",
    "from sklearn.metrics import accuracy_score\n",
    "\n",
    "# Load the dataset\n",
    "X = df.iloc[:, [2,4,5,6,8,9]].values\n",
    "y = df.iloc[:, 3].values\n",
    "\n",
    "# Split the dataset into training and testing sets\n",
    "X_train, X_test, y_train, y_test = train_test_split(X, y, test_size=0.3, random_state=0)\n",
    "\n",
    "# Create the logistic regression model\n",
    "logistic_model = LogisticRegression(random_state=0)\n",
    "\n",
    "# Train the model on the training set\n",
    "logistic_model.fit(X_train, y_train)\n",
    "\n",
    "# Predict the test set results\n",
    "y_pred = logistic_model.predict(X_test)\n",
    "\n",
    "# Evaluate the model accuracy\n",
    "accuracy = accuracy_score(y_test, y_pred)\n"
   ]
  }
 ],
 "metadata": {
  "kernelspec": {
   "display_name": "Python 3 (ipykernel)",
   "language": "python",
   "name": "python3"
  },
  "language_info": {
   "codemirror_mode": {
    "name": "ipython",
    "version": 3
   },
   "file_extension": ".py",
   "mimetype": "text/x-python",
   "name": "python",
   "nbconvert_exporter": "python",
   "pygments_lexer": "ipython3",
   "version": "3.9.7"
  }
 },
 "nbformat": 4,
 "nbformat_minor": 5
}
